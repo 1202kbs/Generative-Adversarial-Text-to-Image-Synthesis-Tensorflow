{
 "cells": [
  {
   "cell_type": "code",
   "execution_count": 1,
   "metadata": {},
   "outputs": [
    {
     "name": "stdout",
     "output_type": "stream",
     "text": [
      "Extracting MNIST_data\\train-images-idx3-ubyte.gz\n",
      "Extracting MNIST_data\\train-labels-idx1-ubyte.gz\n",
      "Extracting MNIST_data\\t10k-images-idx3-ubyte.gz\n",
      "Extracting MNIST_data\\t10k-labels-idx1-ubyte.gz\n",
      "{'X_dim': 784,\n",
      " 'batch_size': 128,\n",
      " 'beta': 0.5,\n",
      " 'c_dim': 5,\n",
      " 'checkpoint_dir': '.\\\\checkpoints',\n",
      " 'd_update': 1,\n",
      " 'e_dim': 10,\n",
      " 'image_dir': '.\\\\images',\n",
      " 'lr': 0.001,\n",
      " 'niter': 2801,\n",
      " 'nwords': 6,\n",
      " 'show_progress': False,\n",
      " 'use_adam': True,\n",
      " 'vocab_size': 19,\n",
      " 'z_dim': 5}\n"
     ]
    }
   ],
   "source": [
    "import os\n",
    "\n",
    "import matplotlib.pyplot as plt\n",
    "import tensorflow as tf\n",
    "import numpy as np\n",
    "import pprint\n",
    "\n",
    "from GAN_INT import GAN_INT\n",
    "\n",
    "%matplotlib inline\n",
    "\n",
    "\n",
    "pp = pprint.PrettyPrinter()\n",
    "\n",
    "flags = tf.app.flags\n",
    "\n",
    "flags.DEFINE_integer('X_dim', 784, 'dimension of the original image [784]')\n",
    "flags.DEFINE_integer('nwords', 6, 'number of words in the input sentence (e.g. \"thin number one with left skew\") [6]')\n",
    "flags.DEFINE_integer('vocab_size', 19, 'size of the vocabulary [19]')\n",
    "flags.DEFINE_integer('z_dim', 5, 'dimension of the generator input noise variable z [100]')\n",
    "flags.DEFINE_integer('c_dim', 5, 'dimension of input code variable c [2]')\n",
    "flags.DEFINE_integer('e_dim', 10, 'dimension of the word embedding phi [20]')\n",
    "flags.DEFINE_integer('d_update', 1, 'update the discriminator weights [d_update] times per generator update [5]')\n",
    "flags.DEFINE_integer('niter', 2801, 'number of iterations to use during training [600]')\n",
    "flags.DEFINE_integer('batch_size', 128, 'batch size to use during training [128]')\n",
    "flags.DEFINE_float('beta', 0.5, 'variable that parameterizes the amount of interpolation between two text embeddings [0.5]')\n",
    "flags.DEFINE_float('lr', 0.001, 'learning rate of the optimizer to use during training [0.001]')\n",
    "flags.DEFINE_string('checkpoint_dir', '.\\\\checkpoints', 'checkpoint directory [.\\\\checkpoints]')\n",
    "flags.DEFINE_string('image_dir', '.\\\\images', 'directory to save generated images to [.\\\\images]')\n",
    "flags.DEFINE_bool('use_adam', True, 'if True, use Adam optimizer; otherwise, use SGD [True]')\n",
    "flags.DEFINE_bool('show_progress', False, 'print progress [False]')\n",
    "FLAGS = flags.FLAGS\n",
    "\n",
    "if not os.path.exists(FLAGS.checkpoint_dir):\n",
    "    os.makedirs(FLAGS.checkpoint_dir)\n",
    "\n",
    "pp.pprint(flags.FLAGS.__flags)"
   ]
  },
  {
   "cell_type": "code",
   "execution_count": 2,
   "metadata": {
    "scrolled": false
   },
   "outputs": [
    {
     "name": "stdout",
     "output_type": "stream",
     "text": [
      "{'D Loss': 1.5150144, 'G Loss': 3.068388, 'Iteration': 0}\n",
      "['normal number four with left skew', 'normal number three with left skew', 'thin number zero with left skew', 'thin number one with average skew', 'normal number zero with left skew', 'thin number three with left skew', 'thin number two with right skew', 'thin number seven with average skew', 'thick number seven with left skew', 'normal number seven with left skew', 'thin number two with average skew', 'thin number zero with left skew', 'thin number one with right skew', 'thin number three with right skew', 'normal number seven with right skew', 'thin number four with right skew']\n",
      "{'D Loss': 1.0734458, 'G Loss': 5.5057044, 'Iteration': 200}\n",
      "['thin number three with right skew', 'thick number six with right skew', 'normal number three with right skew', 'thick number nine with right skew', 'thin number zero with right skew', 'thin number nine with right skew', 'normal number seven with average skew', 'thick number four with left skew', 'normal number seven with right skew', 'thin number zero with left skew', 'thick number five with left skew', 'normal number zero with average skew', 'thin number zero with average skew', 'thin number six with average skew', 'thick number zero with right skew', 'thick number zero with left skew']\n",
      "{'D Loss': 0.99244916, 'G Loss': 5.9224262, 'Iteration': 400}\n",
      "['thin number seven with right skew', 'thick number two with average skew', 'thin number nine with average skew', 'normal number six with right skew', 'thick number two with right skew', 'thick number seven with left skew', 'thin number two with right skew', 'thin number seven with right skew', 'thick number four with average skew', 'normal number zero with average skew', 'normal number seven with left skew', 'thin number five with left skew', 'thin number three with average skew', 'normal number six with left skew', 'thin number five with right skew', 'normal number nine with right skew']\n",
      "{'D Loss': 0.95064193, 'G Loss': 6.2885456, 'Iteration': 600}\n",
      "['normal number eight with average skew', 'thin number five with right skew', 'normal number zero with average skew', 'thick number five with average skew', 'normal number four with average skew', 'normal number seven with left skew', 'normal number four with average skew', 'normal number six with average skew', 'thick number nine with right skew', 'thick number five with right skew', 'thin number four with right skew', 'thick number five with average skew', 'normal number two with average skew', 'thick number two with average skew', 'thick number eight with right skew', 'thin number eight with left skew']\n",
      "{'D Loss': 0.92800015, 'G Loss': 6.5189972, 'Iteration': 800}\n",
      "['thin number nine with left skew', 'normal number nine with right skew', 'thick number zero with average skew', 'normal number seven with left skew', 'normal number five with average skew', 'thick number one with left skew', 'thick number six with average skew', 'normal number seven with average skew', 'thin number zero with average skew', 'thin number five with right skew', 'normal number zero with left skew', 'thick number four with left skew', 'normal number one with right skew', 'normal number nine with left skew', 'thick number three with average skew', 'normal number five with right skew']\n",
      "{'D Loss': 0.99231017, 'G Loss': 4.4990354, 'Iteration': 1000}\n",
      "['thick number nine with average skew', 'thin number eight with left skew', 'thin number one with left skew', 'thin number eight with right skew', 'normal number four with left skew', 'thick number five with right skew', 'normal number one with right skew', 'normal number five with right skew', 'thin number four with right skew', 'thin number five with left skew', 'normal number one with right skew', 'normal number one with right skew', 'thin number eight with right skew', 'thick number zero with left skew', 'thick number five with right skew', 'thin number three with average skew']\n",
      "{'D Loss': 0.95192397, 'G Loss': 5.403636, 'Iteration': 1200}\n",
      "['normal number zero with right skew', 'thin number five with left skew', 'thick number one with average skew', 'normal number six with right skew', 'thin number zero with right skew', 'normal number seven with right skew', 'thin number seven with left skew', 'normal number six with right skew', 'thin number five with right skew', 'normal number five with left skew', 'normal number zero with left skew', 'normal number nine with left skew', 'thin number one with average skew', 'thin number three with left skew', 'normal number nine with left skew', 'thick number nine with right skew']\n",
      "{'D Loss': 0.98675555, 'G Loss': 5.1447082, 'Iteration': 1400}\n",
      "['normal number five with right skew', 'thin number zero with average skew', 'thick number seven with left skew', 'thin number one with right skew', 'thin number seven with average skew', 'normal number three with average skew', 'normal number nine with average skew', 'normal number six with average skew', 'thick number three with average skew', 'thick number five with right skew', 'thick number one with left skew', 'thin number one with right skew', 'thin number one with average skew', 'normal number nine with average skew', 'thin number eight with right skew', 'thin number eight with left skew']\n",
      "{'D Loss': 0.92658192, 'G Loss': 6.663312, 'Iteration': 1600}\n",
      "['thin number seven with right skew', 'thick number five with average skew', 'thin number two with average skew', 'thin number one with average skew', 'thick number two with right skew', 'thick number seven with right skew', 'thick number seven with left skew', 'normal number seven with average skew', 'thin number one with right skew', 'normal number eight with right skew', 'thin number seven with right skew', 'thick number zero with left skew', 'thin number four with right skew', 'thin number nine with average skew', 'thick number five with right skew', 'thin number four with left skew']\n",
      "{'D Loss': 1.0146796, 'G Loss': 5.352479, 'Iteration': 1800}\n",
      "['normal number eight with right skew', 'thin number five with left skew', 'normal number seven with left skew', 'thin number zero with right skew', 'thin number nine with right skew', 'normal number three with right skew', 'thin number one with left skew', 'thin number nine with average skew', 'thin number zero with right skew', 'thin number five with average skew', 'thick number nine with right skew', 'thick number three with left skew', 'thin number eight with average skew', 'normal number four with left skew', 'thick number seven with left skew', 'thick number four with right skew']\n",
      "{'D Loss': 0.99395484, 'G Loss': 4.3971133, 'Iteration': 2000}\n",
      "['thin number seven with left skew', 'normal number two with average skew', 'thick number four with left skew', 'normal number three with average skew', 'thin number eight with right skew', 'thin number two with average skew', 'normal number five with right skew', 'normal number two with right skew', 'thin number three with right skew', 'thick number nine with average skew', 'normal number four with right skew', 'thick number seven with left skew', 'thick number one with left skew', 'normal number nine with right skew', 'normal number three with average skew', 'thin number zero with average skew']\n",
      "{'D Loss': 1.0012078, 'G Loss': 5.2960138, 'Iteration': 2200}\n",
      "['normal number four with right skew', 'normal number seven with average skew', 'normal number two with average skew', 'normal number zero with left skew', 'thick number zero with right skew', 'thick number nine with left skew', 'thin number one with left skew', 'thick number seven with average skew', 'normal number zero with left skew', 'thick number one with left skew', 'normal number three with left skew', 'thick number nine with left skew', 'thick number three with average skew', 'thick number nine with average skew', 'thin number four with left skew', 'thin number eight with right skew']\n",
      "{'D Loss': 1.0436983, 'G Loss': 4.5109777, 'Iteration': 2400}\n",
      "['thick number eight with left skew', 'thick number six with average skew', 'thin number zero with left skew', 'thin number zero with average skew', 'thin number four with right skew', 'normal number seven with left skew', 'thin number two with right skew', 'normal number four with left skew', 'thick number five with average skew', 'thick number zero with left skew', 'thick number zero with average skew', 'thick number nine with right skew', 'thin number seven with average skew', 'thick number seven with average skew', 'thick number five with average skew', 'thin number eight with average skew']\n"
     ]
    },
    {
     "name": "stdout",
     "output_type": "stream",
     "text": [
      "{'D Loss': 1.0805045, 'G Loss': 4.5058374, 'Iteration': 2600}\n",
      "['thick number zero with average skew', 'thin number six with left skew', 'thick number three with right skew', 'thin number five with right skew', 'thick number seven with right skew', 'thick number eight with right skew', 'normal number two with average skew', 'thick number four with right skew', 'thin number six with right skew', 'thick number four with right skew', 'thin number nine with average skew', 'thick number eight with left skew', 'thin number one with average skew', 'thin number zero with left skew', 'thick number seven with right skew', 'thin number zero with average skew']\n",
      "{'D Loss': 1.0372655, 'G Loss': 4.510766, 'Iteration': 2800}\n",
      "['thick number eight with average skew', 'thin number nine with left skew', 'thick number eight with left skew', 'thin number four with average skew', 'thick number six with right skew', 'thick number seven with right skew', 'thick number two with average skew', 'normal number four with left skew', 'thin number six with left skew', 'thick number zero with right skew', 'normal number zero with right skew', 'normal number five with average skew', 'thin number five with left skew', 'thin number six with average skew', 'thin number six with average skew', 'normal number two with average skew']\n"
     ]
    }
   ],
   "source": [
    "with tf.Session() as sess:\n",
    "    model = GAN_INT(FLAGS, sess)\n",
    "    model.build_model()\n",
    "    model.run()"
   ]
  },
  {
   "cell_type": "code",
   "execution_count": 2,
   "metadata": {
    "collapsed": true
   },
   "outputs": [
    {
     "name": "stdout",
     "output_type": "stream",
     "text": [
      "[*] Reading Checkpoints...\n",
      "INFO:tensorflow:Restoring parameters from .\\checkpoints\\StackGAN.model\n",
      "[*] Reading Checkpoints...\n",
      "INFO:tensorflow:Restoring parameters from .\\checkpoints\\StackGAN.model\n"
     ]
    }
   ],
   "source": [
    "with tf.Session() as sess:\n",
    "    model = Txt2ImgGAN(FLAGS, sess)\n",
    "    model.build_model()\n",
    "    sentences = ['thin number zero with left skew', \\\n",
    "                 'thin number zero with average skew', \\\n",
    "                 'thin number zero with right skew']\n",
    "    samples1 = model.generate(sentences)\n",
    "    samples2 = model.generate(sentences)"
   ]
  },
  {
   "cell_type": "code",
   "execution_count": 3,
   "metadata": {},
   "outputs": [
    {
     "data": {
      "image/png": "[encoded data removed]",
      "text/plain": [
       "<matplotlib.figure.Figure at 0x1a488422e10>"
      ]
     },
     "metadata": {},
     "output_type": "display_data"
    }
   ],
   "source": [
    "plt.figure(figsize=(6, 6))\n",
    "\n",
    "for i in range(3):\n",
    "\n",
    "    plt.subplot(2, 3, 1 + i)\n",
    "    plt.imshow(np.reshape(samples1[i], (28, 28)), vmin=0, vmax=1, interpolation='NONE', cmap=plt.get_cmap('gray'))\n",
    "    \n",
    "    plt.subplot(2, 3, 4 + i)\n",
    "    plt.imshow(np.reshape(samples1[i], (28, 28)), vmin=0, vmax=1, interpolation='NONE', cmap=plt.get_cmap('gray'))"
   ]
  },
  {
   "cell_type": "code",
   "execution_count": null,
   "metadata": {
    "collapsed": true
   },
   "outputs": [],
   "source": []
  }
 ],
 "metadata": {
  "kernelspec": {
   "display_name": "Python 3",
   "language": "python",
   "name": "python3"
  },
  "language_info": {
   "codemirror_mode": {
    "name": "ipython",
    "version": 3
   },
   "file_extension": ".py",
   "mimetype": "text/x-python",
   "name": "python",
   "nbconvert_exporter": "python",
   "pygments_lexer": "ipython3",
   "version": "3.5.3"
  }
 },
 "nbformat": 4,
 "nbformat_minor": 2
}
